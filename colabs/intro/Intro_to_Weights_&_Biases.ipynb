{
  "cells": [
    {
      "cell_type": "markdown",
      "metadata": {
        "id": "view-in-github",
        "colab_type": "text"
      },
      "source": [
        "<a href=\"https://colab.research.google.com/github/aimlsonika/MLOpsAssignment1_GRP19/blob/main/colabs/intro/Intro_to_Weights_%26_Biases.ipynb\" target=\"_parent\"><img src=\"https://colab.research.google.com/assets/colab-badge.svg\" alt=\"Open In Colab\"/></a>"
      ]
    },
    {
      "cell_type": "markdown",
      "metadata": {
        "id": "oYNXnQE2NM1y"
      },
      "source": [
        "<a href=\"https://colab.research.google.com/github/wandb/examples/blob/master/colabs/intro/Intro_to_Weights_&_Biases.ipynb\" target=\"_parent\"><img src=\"https://colab.research.google.com/assets/colab-badge.svg\" alt=\"Open In Colab\"/></a>\n",
        "<!--- @wandbcode{intro-colab} -->"
      ]
    },
    {
      "cell_type": "markdown",
      "source": [
        "# **Helper Functions**"
      ],
      "metadata": {
        "id": "_mQNmAIcNUn9"
      }
    },
    {
      "cell_type": "code",
      "source": [
        "import pandas as pd\n",
        "from sklearn.model_selection import train_test_split\n",
        "from sklearn.preprocessing import StandardScaler\n",
        "from sklearn.ensemble import RandomForestClassifier\n",
        "\n",
        "import torch\n",
        "import torch.nn as nn\n",
        "import torch.optim as optim\n",
        "from torch.utils.data import DataLoader, TensorDataset\n",
        "\n",
        "import joblib\n",
        "\n",
        "def load_titanic_ds():\n",
        "  titanic_url = 'https://raw.githubusercontent.com/datasciencedojo/datasets/master/titanic.csv'\n",
        "  return pd.read_csv(titanic_url)\n",
        "\n",
        "def clean_data(titanic_data, fill_missing = True):\n",
        "  df = titanic_data.drop(['PassengerId','Name','Ticket','Cabin'],axis=1)\n",
        "  #Fill missing values\n",
        "  if fill_missing:\n",
        "    df['Age'] = df['Age'].fillna(df['Age'].median())\n",
        "    df['Embarked'] = df['Embarked'].fillna(df['Embarked'].mode()[0],inplace=True)\n",
        "    df['Fare'].fillna(df['Fare'].median(),inplace=True)\n",
        "  else:\n",
        "    df = df.dropna()\n",
        "  #Encode categorical variables to numerical\n",
        "  df['Sex'] = df['Sex'].map({'male': 0, 'female': 1})\n",
        "  df['Embarked'] = df['Embarked'].map({'C': 0, 'Q': 1, 'S': 2})\n",
        "  return df\n",
        "\n",
        "def load_titanic(cleaned=True, Xy=True):\n",
        "  '''\n",
        "  Returns the titanic dataset\n",
        "  '''\n",
        "  # Get data\n",
        "  df = load_titanic_ds()\n",
        "  # Clean data\n",
        "  if cleaned:\n",
        "    # Drop useless features\n",
        "    df = clean_data(df)\n",
        "  # Split Data\n",
        "  if Xy:\n",
        "    return df.drop('Survived', axis=1), df['Survived'] # X, y\n",
        "  return df\n",
        "\n",
        "def get_data_loaders(X_train, X_test, y_train, y_test, batch_size=32):\n",
        "  # Convert to Tensors\n",
        "  X_train_tensor = torch.tensor(X_train.to_numpy(), dtype=torch.float32)\n",
        "  y_train_tensor = torch.tensor(y_train.values, dtype=torch.float32).view(-1, 1)\n",
        "  X_test_tensor = torch.tensor(X_test.to_numpy(), dtype=torch.float32)\n",
        "  y_test_tensor = torch.tensor(y_test.values, dtype=torch.float32).view(-1, 1)\n",
        "\n",
        "  # Create Datasets\n",
        "  train_dataset = TensorDataset(X_train_tensor, y_train_tensor)\n",
        "  test_dataset = TensorDataset(X_test_tensor, y_test_tensor)\n",
        "\n",
        "  # Create DataLoaders\n",
        "  train_loader = DataLoader(train_dataset, batch_size=batch_size, shuffle=True)\n",
        "  test_loader = DataLoader(test_dataset, batch_size=batch_size, shuffle=False)\n",
        "\n",
        "  return train_loader, test_loader\n",
        "\n",
        "def train_loop(train_loader, model, optimizer, criterion, device):\n",
        "  model.train()\n",
        "  epoch_train_loss = 0.0\n",
        "  for batch, labels in train_loader:\n",
        "    batch, labels = batch.to(device), labels.to(device)\n",
        "    optimizer.zero_grad()\n",
        "    # Forward Pass\n",
        "    outputs = model(batch)\n",
        "    loss = criterion(outputs, labels)\n",
        "    # Update Parameters\n",
        "    loss.backward()\n",
        "    optimizer.step()\n",
        "    # Save loss\n",
        "    epoch_train_loss += loss.item() * batch.size(0)\n",
        "  return epoch_train_loss / len(train_loader.dataset)\n",
        "\n",
        "def test_loop(test_loader, model, criterion, device):\n",
        "  model.eval()\n",
        "  epoch_test_loss = 0.0\n",
        "  with torch.no_grad():\n",
        "    for batch, labels in test_loader:\n",
        "      batch, labels = batch.to(device), labels.to(device)\n",
        "      # Calculate predictions\n",
        "      outputs = model(batch)\n",
        "      # Save loss\n",
        "      loss = criterion(outputs, labels)\n",
        "      epoch_test_loss += loss.item() * batch.size(0)\n",
        "  return epoch_test_loss / len(test_loader.dataset)\n",
        "\n",
        "device = torch.device('cuda' if torch.cuda.is_available() else 'cpu')\n",
        "print(device)"
      ],
      "metadata": {
        "colab": {
          "base_uri": "https://localhost:8080/"
        },
        "id": "_zgwFND_NYZ6",
        "outputId": "02dc3bfa-8639-48cc-85a3-28d9cfc91bab"
      },
      "execution_count": 1,
      "outputs": [
        {
          "output_type": "stream",
          "name": "stdout",
          "text": [
            "cpu\n"
          ]
        }
      ]
    },
    {
      "cell_type": "markdown",
      "metadata": {
        "id": "xAttP8eJNM1z"
      },
      "source": [
        "<img src=\"http://wandb.me/logo-im-png\" width=\"400\" alt=\"Weights & Biases\" />\n",
        "<!--- @wandbcode{intro-colab} -->"
      ]
    },
    {
      "cell_type": "markdown",
      "metadata": {
        "id": "hv_vR2BnNM10"
      },
      "source": [
        "Use [W&B](https://wandb.ai/site?utm_source=intro_colab&utm_medium=code&utm_campaign=intro) for machine learning experiment tracking, model checkpointing, collaboration with your team and more. See the full W&B Documentation [here](https://docs.wandb.ai/).\n",
        "\n",
        "In this notebook, you will create and track a machine learning experiment using a simple PyTorch model. By the end of the notebook, you will have an interactive project dashboard that you can share and customize with other members of your team. [View an example dashboard here](https://wandb.ai/wandb/wandb_example)."
      ]
    },
    {
      "cell_type": "markdown",
      "metadata": {
        "id": "ZHCDifolNM11"
      },
      "source": [
        "## Prerequisites\n",
        "\n",
        "Install the W&B Python SDK and log in:"
      ]
    },
    {
      "cell_type": "code",
      "execution_count": 2,
      "metadata": {
        "id": "mRZZCQoeNM11"
      },
      "outputs": [],
      "source": [
        "!pip install wandb -qU"
      ]
    },
    {
      "cell_type": "code",
      "execution_count": 3,
      "metadata": {
        "id": "dfDP2euRNM13"
      },
      "outputs": [],
      "source": [
        "# Log in to your W&B account\n",
        "import wandb\n",
        "import random\n",
        "import math"
      ]
    },
    {
      "cell_type": "code",
      "execution_count": 4,
      "metadata": {
        "colab": {
          "base_uri": "https://localhost:8080/",
          "height": 202
        },
        "id": "R5B7Q7WvNM13",
        "outputId": "a3ab7fce-27be-49bd-effe-d69092e174c1"
      },
      "outputs": [
        {
          "output_type": "display_data",
          "data": {
            "text/plain": [
              "<IPython.core.display.Javascript object>"
            ],
            "application/javascript": [
              "\n",
              "        window._wandbApiKey = new Promise((resolve, reject) => {\n",
              "            function loadScript(url) {\n",
              "            return new Promise(function(resolve, reject) {\n",
              "                let newScript = document.createElement(\"script\");\n",
              "                newScript.onerror = reject;\n",
              "                newScript.onload = resolve;\n",
              "                document.body.appendChild(newScript);\n",
              "                newScript.src = url;\n",
              "            });\n",
              "            }\n",
              "            loadScript(\"https://cdn.jsdelivr.net/npm/postmate/build/postmate.min.js\").then(() => {\n",
              "            const iframe = document.createElement('iframe')\n",
              "            iframe.style.cssText = \"width:0;height:0;border:none\"\n",
              "            document.body.appendChild(iframe)\n",
              "            const handshake = new Postmate({\n",
              "                container: iframe,\n",
              "                url: 'https://wandb.ai/authorize'\n",
              "            });\n",
              "            const timeout = setTimeout(() => reject(\"Couldn't auto authenticate\"), 5000)\n",
              "            handshake.then(function(child) {\n",
              "                child.on('authorize', data => {\n",
              "                    clearTimeout(timeout)\n",
              "                    resolve(data)\n",
              "                });\n",
              "            });\n",
              "            })\n",
              "        });\n",
              "    "
            ]
          },
          "metadata": {}
        },
        {
          "output_type": "stream",
          "name": "stderr",
          "text": [
            "\u001b[34m\u001b[1mwandb\u001b[0m: Logging into wandb.ai. (Learn how to deploy a W&B server locally: https://wandb.me/wandb-server)\n",
            "\u001b[34m\u001b[1mwandb\u001b[0m: You can find your API key in your browser here: https://wandb.ai/authorize\n",
            "wandb: Paste an API key from your profile and hit enter:"
          ]
        },
        {
          "name": "stdout",
          "output_type": "stream",
          "text": [
            " ··········\n"
          ]
        },
        {
          "output_type": "stream",
          "name": "stderr",
          "text": [
            "\u001b[34m\u001b[1mwandb\u001b[0m: \u001b[33mWARNING\u001b[0m If you're specifying your api key in code, ensure this code is not shared publicly.\n",
            "\u001b[34m\u001b[1mwandb\u001b[0m: \u001b[33mWARNING\u001b[0m Consider setting the WANDB_API_KEY environment variable, or running `wandb login` from the command line.\n",
            "\u001b[34m\u001b[1mwandb\u001b[0m: Appending key for api.wandb.ai to your netrc file: /root/.netrc\n",
            "\u001b[34m\u001b[1mwandb\u001b[0m: Currently logged in as: \u001b[33mmasteraimlinbits\u001b[0m (\u001b[33mmasteraimlinbits-bits-pilani\u001b[0m) to \u001b[32mhttps://api.wandb.ai\u001b[0m. Use \u001b[1m`wandb login --relogin`\u001b[0m to force relogin\n"
          ]
        },
        {
          "output_type": "execute_result",
          "data": {
            "text/plain": [
              "True"
            ]
          },
          "metadata": {},
          "execution_count": 4
        }
      ],
      "source": [
        "wandb.login()"
      ]
    },
    {
      "cell_type": "markdown",
      "source": [
        "# **Simple Scikit-Learn Run**"
      ],
      "metadata": {
        "id": "CDVSpmGqP2dX"
      }
    },
    {
      "cell_type": "code",
      "source": [
        "# Define hyperparameters\n",
        "n_estimators = 40\n",
        "max_depth = 5\n",
        "\n",
        "# Create a new run in a project\n",
        "run = wandb.init(\n",
        "    project=\"Simple Scikit-Learn Runnnnn\",\n",
        "    notes=\"commit message for the run\",\n",
        "    config={\n",
        "        \"n_estimators\": n_estimators,\n",
        "        \"max_depth\": max_depth\n",
        "    }\n",
        ")\n",
        "\n",
        "# Get Data\n",
        "X, y = load_titanic()\n",
        "X_train, X_test, y_train, y_test = train_test_split(X, y, test_size=0.2,\n",
        "                                                    random_state=42)\n",
        "\n",
        "# Define Random Forest Classifier\n",
        "clf = RandomForestClassifier(n_estimators=n_estimators, max_depth=max_depth)\n",
        "clf.fit(X_train, y_train)\n",
        "\n",
        "# Log metrics\n",
        "wandb.log({\"accuracy\": clf.score(X_test, y_test)})\n",
        "\n",
        "# Finish the run\n",
        "wandb.finish()\n",
        "\n"
      ],
      "metadata": {
        "colab": {
          "base_uri": "https://localhost:8080/",
          "height": 701
        },
        "id": "skaWKbpxP6dn",
        "outputId": "c61ee834-f6b7-4e31-efed-9ffadc7b2af4"
      },
      "execution_count": 5,
      "outputs": [
        {
          "output_type": "stream",
          "name": "stderr",
          "text": [
            "\u001b[34m\u001b[1mwandb\u001b[0m: Using wandb-core as the SDK backend.  Please refer to https://wandb.me/wandb-core for more information.\n"
          ]
        },
        {
          "output_type": "display_data",
          "data": {
            "text/plain": [
              "<IPython.core.display.HTML object>"
            ],
            "text/html": [
              "Tracking run with wandb version 0.19.6"
            ]
          },
          "metadata": {}
        },
        {
          "output_type": "display_data",
          "data": {
            "text/plain": [
              "<IPython.core.display.HTML object>"
            ],
            "text/html": [
              "Run data is saved locally in <code>/content/wandb/run-20250212_102955-ja947hic</code>"
            ]
          },
          "metadata": {}
        },
        {
          "output_type": "display_data",
          "data": {
            "text/plain": [
              "<IPython.core.display.HTML object>"
            ],
            "text/html": [
              "Syncing run <strong><a href='https://wandb.ai/masteraimlinbits-bits-pilani/Simple%20Scikit-Learn%20Runnnnn/runs/ja947hic' target=\"_blank\">restful-totem-3</a></strong> to <a href='https://wandb.ai/masteraimlinbits-bits-pilani/Simple%20Scikit-Learn%20Runnnnn' target=\"_blank\">Weights & Biases</a> (<a href='https://wandb.me/developer-guide' target=\"_blank\">docs</a>)<br>"
            ]
          },
          "metadata": {}
        },
        {
          "output_type": "display_data",
          "data": {
            "text/plain": [
              "<IPython.core.display.HTML object>"
            ],
            "text/html": [
              " View project at <a href='https://wandb.ai/masteraimlinbits-bits-pilani/Simple%20Scikit-Learn%20Runnnnn' target=\"_blank\">https://wandb.ai/masteraimlinbits-bits-pilani/Simple%20Scikit-Learn%20Runnnnn</a>"
            ]
          },
          "metadata": {}
        },
        {
          "output_type": "display_data",
          "data": {
            "text/plain": [
              "<IPython.core.display.HTML object>"
            ],
            "text/html": [
              " View run at <a href='https://wandb.ai/masteraimlinbits-bits-pilani/Simple%20Scikit-Learn%20Runnnnn/runs/ja947hic' target=\"_blank\">https://wandb.ai/masteraimlinbits-bits-pilani/Simple%20Scikit-Learn%20Runnnnn/runs/ja947hic</a>"
            ]
          },
          "metadata": {}
        },
        {
          "output_type": "stream",
          "name": "stderr",
          "text": [
            "<ipython-input-1-7762e5fce292>:22: FutureWarning: A value is trying to be set on a copy of a DataFrame or Series through chained assignment using an inplace method.\n",
            "The behavior will change in pandas 3.0. This inplace method will never work because the intermediate object on which we are setting values always behaves as a copy.\n",
            "\n",
            "For example, when doing 'df[col].method(value, inplace=True)', try using 'df.method({col: value}, inplace=True)' or df[col] = df[col].method(value) instead, to perform the operation inplace on the original object.\n",
            "\n",
            "\n",
            "  df['Embarked'] = df['Embarked'].fillna(df['Embarked'].mode()[0],inplace=True)\n",
            "<ipython-input-1-7762e5fce292>:23: FutureWarning: A value is trying to be set on a copy of a DataFrame or Series through chained assignment using an inplace method.\n",
            "The behavior will change in pandas 3.0. This inplace method will never work because the intermediate object on which we are setting values always behaves as a copy.\n",
            "\n",
            "For example, when doing 'df[col].method(value, inplace=True)', try using 'df.method({col: value}, inplace=True)' or df[col] = df[col].method(value) instead, to perform the operation inplace on the original object.\n",
            "\n",
            "\n",
            "  df['Fare'].fillna(df['Fare'].median(),inplace=True)\n"
          ]
        },
        {
          "output_type": "display_data",
          "data": {
            "text/plain": [
              "<IPython.core.display.HTML object>"
            ],
            "text/html": []
          },
          "metadata": {}
        },
        {
          "output_type": "display_data",
          "data": {
            "text/plain": [
              "<IPython.core.display.HTML object>"
            ],
            "text/html": [
              "<br>    <style><br>        .wandb-row {<br>            display: flex;<br>            flex-direction: row;<br>            flex-wrap: wrap;<br>            justify-content: flex-start;<br>            width: 100%;<br>        }<br>        .wandb-col {<br>            display: flex;<br>            flex-direction: column;<br>            flex-basis: 100%;<br>            flex: 1;<br>            padding: 10px;<br>        }<br>    </style><br><div class=\"wandb-row\"><div class=\"wandb-col\"><h3>Run history:</h3><br/><table class=\"wandb\"><tr><td>accuracy</td><td>▁</td></tr></table><br/></div><div class=\"wandb-col\"><h3>Run summary:</h3><br/><table class=\"wandb\"><tr><td>accuracy</td><td>0.81006</td></tr></table><br/></div></div>"
            ]
          },
          "metadata": {}
        },
        {
          "output_type": "display_data",
          "data": {
            "text/plain": [
              "<IPython.core.display.HTML object>"
            ],
            "text/html": [
              " View run <strong style=\"color:#cdcd00\">restful-totem-3</strong> at: <a href='https://wandb.ai/masteraimlinbits-bits-pilani/Simple%20Scikit-Learn%20Runnnnn/runs/ja947hic' target=\"_blank\">https://wandb.ai/masteraimlinbits-bits-pilani/Simple%20Scikit-Learn%20Runnnnn/runs/ja947hic</a><br> View project at: <a href='https://wandb.ai/masteraimlinbits-bits-pilani/Simple%20Scikit-Learn%20Runnnnn' target=\"_blank\">https://wandb.ai/masteraimlinbits-bits-pilani/Simple%20Scikit-Learn%20Runnnnn</a><br>Synced 5 W&B file(s), 0 media file(s), 0 artifact file(s) and 0 other file(s)"
            ]
          },
          "metadata": {}
        },
        {
          "output_type": "display_data",
          "data": {
            "text/plain": [
              "<IPython.core.display.HTML object>"
            ],
            "text/html": [
              "Find logs at: <code>./wandb/run-20250212_102955-ja947hic/logs</code>"
            ]
          },
          "metadata": {}
        }
      ]
    },
    {
      "cell_type": "markdown",
      "source": [
        "# **Simple PyTorch Run**"
      ],
      "metadata": {
        "id": "-seWIgR5QT1f"
      }
    },
    {
      "cell_type": "code",
      "source": [
        "'''\n",
        "##Define hyperparameters\n",
        "num_epochs = 10\n",
        "learning_rate = 0.01\n",
        "run_count = 3\n",
        "\n",
        "# Start a run\n",
        "run = wandb.init(\n",
        "    project=\"Simple PyTorch Run\",\n",
        "    name=f\"MyRun{run_count}\",\n",
        "    config={\n",
        "        \"num_epochs\": num_epochs,\n",
        "        \"learning_rate\": learning_rate\n",
        "    }\n",
        ")\n",
        "\n",
        "# Get Data\n",
        "X, y = load_titanic()\n",
        "X_train, X_test, y_train, y_test = train_test_split(X, y, test_size=0.2,\n",
        "                                                    random_state=42)\n",
        "train_loader, test_loader = get_data_loaders(X_train, X_test, y_train, y_test)\n",
        "\n",
        "# Define Simple PyTorch Model\n",
        "model = nn.Sequential(\n",
        "    nn.Linear(7, 32), # 7 input features -> 32 hidden nodes\n",
        "    nn.ReLU(),\n",
        "    nn.Linear(32, 16),\n",
        "    nn.ReLU(),\n",
        "    nn.Linear(16, 1),\n",
        "    nn.Sigmoid())\n",
        "\n",
        "criterion = nn.BCELoss()\n",
        "optimizer = optim.Adam(model.parameters(), lr=learning_rate)\n",
        "\n",
        "for epoch in range(num_epochs):\n",
        "  train_loss = train_loop(train_loader, model, optimizer, criterion, device)\n",
        "  test_loss = test_loop(test_loader, model, criterion, device)\n",
        "\n",
        "  print(f\"[Epoch {epoch+1}/{num_epochs}] TrainLoss: {train_loss:.4f}; TestLoss: {test_loss:.4f}\")\n",
        "  wandb.log({\n",
        "    \"train_loss\": train_loss,\n",
        "    \"test_loss\": test_loss\n",
        "  })\n",
        "\n",
        "wandb.finish()\n",
        "'''"
      ],
      "metadata": {
        "colab": {
          "base_uri": "https://localhost:8080/",
          "height": 147
        },
        "id": "lpv4HoSRQUU2",
        "outputId": "47e97cd6-8a2d-42d9-983e-76edb6f9faa8"
      },
      "execution_count": 6,
      "outputs": [
        {
          "output_type": "execute_result",
          "data": {
            "text/plain": [
              "'\\n##Define hyperparameters\\nnum_epochs = 10\\nlearning_rate = 0.01\\nrun_count = 3\\n\\n# Start a run\\nrun = wandb.init(\\n    project=\"Simple PyTorch Run\",\\n    name=f\"MyRun{run_count}\",\\n    config={\\n        \"num_epochs\": num_epochs,\\n        \"learning_rate\": learning_rate\\n    }\\n)\\n\\n# Get Data\\nX, y = load_titanic()\\nX_train, X_test, y_train, y_test = train_test_split(X, y, test_size=0.2,\\n                                                    random_state=42)\\ntrain_loader, test_loader = get_data_loaders(X_train, X_test, y_train, y_test)\\n\\n# Define Simple PyTorch Model\\nmodel = nn.Sequential(\\n    nn.Linear(7, 32), # 7 input features -> 32 hidden nodes\\n    nn.ReLU(),\\n    nn.Linear(32, 16),\\n    nn.ReLU(),\\n    nn.Linear(16, 1),\\n    nn.Sigmoid())\\n\\ncriterion = nn.BCELoss()\\noptimizer = optim.Adam(model.parameters(), lr=learning_rate)\\n\\nfor epoch in range(num_epochs):\\n  train_loss = train_loop(train_loader, model, optimizer, criterion, device)\\n  test_loss = test_loop(test_loader, model, criterion, device)\\n\\n  print(f\"[Epoch {epoch+1}/{num_epochs}] TrainLoss: {train_loss:.4f}; TestLoss: {test_loss:.4f}\")\\n  wandb.log({\\n    \"train_loss\": train_loss,\\n    \"test_loss\": test_loss\\n  })\\n\\nwandb.finish()\\n'"
            ],
            "application/vnd.google.colaboratory.intrinsic+json": {
              "type": "string"
            }
          },
          "metadata": {},
          "execution_count": 6
        }
      ]
    },
    {
      "cell_type": "markdown",
      "source": [
        "# **Artifacts (Dataset Registry + Model Registry)**\n",
        "# **First Dataset Artifact - Raw Titanic Dataset**"
      ],
      "metadata": {
        "id": "VeFMbf7iPGtv"
      }
    },
    {
      "cell_type": "code",
      "source": [
        "run = wandb.init(project=\"Artifacts Registry\", job_type=\"data-loading\")\n",
        "\n",
        "# Save data locally without cleaning and splitting\n",
        "raw_titanic_df = load_titanic(cleaned=False, Xy=False)\n",
        "raw_titanic_df.to_csv('raw_titanic.csv', index=False)  # Save as CSV\n",
        "\n",
        "# Create Artifact object\n",
        "raw_dataset_artifact = wandb.Artifact(name='raw_titanic', type='dataset')\n",
        "\n",
        "# Add files to the artifact (multiple)\n",
        "raw_dataset_artifact.add_file('raw_titanic.csv')\n",
        "\n",
        "# Log the artifact\n",
        "wandb.log_artifact(raw_dataset_artifact, aliases=[\"raw\"])\n",
        "\n",
        "wandb.finish()"
      ],
      "metadata": {
        "colab": {
          "base_uri": "https://localhost:8080/",
          "height": 175
        },
        "id": "PUKtIJw6O3Na",
        "outputId": "a2129899-c2c9-4c02-8ea5-1ad1fe1b3a4b"
      },
      "execution_count": 7,
      "outputs": [
        {
          "output_type": "display_data",
          "data": {
            "text/plain": [
              "<IPython.core.display.HTML object>"
            ],
            "text/html": [
              "Tracking run with wandb version 0.19.6"
            ]
          },
          "metadata": {}
        },
        {
          "output_type": "display_data",
          "data": {
            "text/plain": [
              "<IPython.core.display.HTML object>"
            ],
            "text/html": [
              "Run data is saved locally in <code>/content/wandb/run-20250212_102959-w2c1xk2e</code>"
            ]
          },
          "metadata": {}
        },
        {
          "output_type": "display_data",
          "data": {
            "text/plain": [
              "<IPython.core.display.HTML object>"
            ],
            "text/html": [
              "Syncing run <strong><a href='https://wandb.ai/masteraimlinbits-bits-pilani/Artifacts%20Registry/runs/w2c1xk2e' target=\"_blank\">dazzling-valley-1</a></strong> to <a href='https://wandb.ai/masteraimlinbits-bits-pilani/Artifacts%20Registry' target=\"_blank\">Weights & Biases</a> (<a href='https://wandb.me/developer-guide' target=\"_blank\">docs</a>)<br>"
            ]
          },
          "metadata": {}
        },
        {
          "output_type": "display_data",
          "data": {
            "text/plain": [
              "<IPython.core.display.HTML object>"
            ],
            "text/html": [
              " View project at <a href='https://wandb.ai/masteraimlinbits-bits-pilani/Artifacts%20Registry' target=\"_blank\">https://wandb.ai/masteraimlinbits-bits-pilani/Artifacts%20Registry</a>"
            ]
          },
          "metadata": {}
        },
        {
          "output_type": "display_data",
          "data": {
            "text/plain": [
              "<IPython.core.display.HTML object>"
            ],
            "text/html": [
              " View run at <a href='https://wandb.ai/masteraimlinbits-bits-pilani/Artifacts%20Registry/runs/w2c1xk2e' target=\"_blank\">https://wandb.ai/masteraimlinbits-bits-pilani/Artifacts%20Registry/runs/w2c1xk2e</a>"
            ]
          },
          "metadata": {}
        },
        {
          "output_type": "display_data",
          "data": {
            "text/plain": [
              "<IPython.core.display.HTML object>"
            ],
            "text/html": []
          },
          "metadata": {}
        },
        {
          "output_type": "display_data",
          "data": {
            "text/plain": [
              "<IPython.core.display.HTML object>"
            ],
            "text/html": [
              " View run <strong style=\"color:#cdcd00\">dazzling-valley-1</strong> at: <a href='https://wandb.ai/masteraimlinbits-bits-pilani/Artifacts%20Registry/runs/w2c1xk2e' target=\"_blank\">https://wandb.ai/masteraimlinbits-bits-pilani/Artifacts%20Registry/runs/w2c1xk2e</a><br> View project at: <a href='https://wandb.ai/masteraimlinbits-bits-pilani/Artifacts%20Registry' target=\"_blank\">https://wandb.ai/masteraimlinbits-bits-pilani/Artifacts%20Registry</a><br>Synced 5 W&B file(s), 0 media file(s), 2 artifact file(s) and 0 other file(s)"
            ]
          },
          "metadata": {}
        },
        {
          "output_type": "display_data",
          "data": {
            "text/plain": [
              "<IPython.core.display.HTML object>"
            ],
            "text/html": [
              "Find logs at: <code>./wandb/run-20250212_102959-w2c1xk2e/logs</code>"
            ]
          },
          "metadata": {}
        }
      ]
    },
    {
      "cell_type": "markdown",
      "source": [
        "# **Add Cleaned Dataset Artifact - Cleaned Titanic Dataset**"
      ],
      "metadata": {
        "id": "G9pWib2vvCDH"
      }
    },
    {
      "cell_type": "code",
      "source": [
        "run = wandb.init(project=\"Artifacts Registry\", job_type='Cleaning')\n",
        "\n",
        "clean_titanic_df_dropped = clean_data(raw_titanic_df, fill_missing = False)\n",
        "clean_titanic_df_dropped.to_csv(\"clean_titanic.csv\", index=False)\n",
        "\n",
        "#Create and Log new Artifact\n",
        "run.log_artifact(artifact_or_path = \"clean_titanic.csv\",\n",
        "                 name = \"clean_titanic\",\n",
        "                 type = \"dataset\",\n",
        "                 aliases = [\"dropped\"])\n",
        "\n",
        "wandb.finish()"
      ],
      "metadata": {
        "colab": {
          "base_uri": "https://localhost:8080/",
          "height": 111
        },
        "id": "vl32EbBIvuvW",
        "outputId": "1a5c60b6-a670-40aa-ac37-283227e17109"
      },
      "execution_count": 8,
      "outputs": [
        {
          "output_type": "error",
          "ename": "SyntaxError",
          "evalue": "invalid syntax. Perhaps you forgot a comma? (<ipython-input-8-a19edd953d09>, line 8)",
          "traceback": [
            "\u001b[0;36m  File \u001b[0;32m\"<ipython-input-8-a19edd953d09>\"\u001b[0;36m, line \u001b[0;32m8\u001b[0m\n\u001b[0;31m    name = \"clean_titanic\"\u001b[0m\n\u001b[0m           ^\u001b[0m\n\u001b[0;31mSyntaxError\u001b[0m\u001b[0;31m:\u001b[0m invalid syntax. Perhaps you forgot a comma?\n"
          ]
        }
      ]
    }
  ],
  "metadata": {
    "accelerator": "GPU",
    "colab": {
      "provenance": [],
      "toc_visible": true,
      "include_colab_link": true
    },
    "kernelspec": {
      "display_name": "Python 3",
      "name": "python3"
    }
  },
  "nbformat": 4,
  "nbformat_minor": 0
}